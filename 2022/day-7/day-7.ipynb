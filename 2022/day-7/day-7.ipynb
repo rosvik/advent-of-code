{
 "cells": [
  {
   "cell_type": "code",
   "execution_count": 89,
   "metadata": {},
   "outputs": [
    {
     "name": "stdout",
     "output_type": "stream",
     "text": [
      "{'cvt': {'bbgsthsd': {'djfww.fcb': 236957, 'hcqbmwc.gts': 112286, 'qggjrzts': 106102}, 'bcqrmp.czf': 146042, 'chhdjtlw': {'cpcfcc': 226927, 'djfww': 309815, 'hcqbmwc.gts': 117933, 'mbdrgfzs': {'hvfvt.dvq': 164331}, 'pbmcnpzf': {'bjgg.cqd': 102120}, 'pwgswq.fld': 131558, 'qlqqmndd.zcb': 298691}, 'cpcfcc': {'ddc': 15756, 'dqc': {'cpcfcc': {'hvfvt': {'pwgswq.fld': 289372, 'qlqqmndd.zcb': 307397}}, 'mzp': 92063, 'qmhnvmh': {'jczjwdl.smd': 274778, 'ngrrfm': 194322}, 'snqqcjlw': {'nprvrgd.tbb': 182851}, 'zdjwr.blc': 8423}, 'glm': {'hpq.hgm': 188702}, 'jbszm': {'pwgswq.fld': 187645}, 'pwgswq.fld': 200345, 'qlqqmndd.zcb': 145508, 'vcptbw': {'mgqd': {'rhldvntj.jzm': 157695, 'rjnngctw': 268696}}, 'zrtm': {'bcqrmp.czf': 218820, 'czpsl.dnf': 172319, 'hcqbmwc.gts': 180114, 'hvfvt.nnw': 165216, 'zft': {'dtqjg.czv': 161245, 'hpq.hgm': 249888, 'zft': 192037}}}, 'dch': {'djfww': {'dct': 37427, 'hcqbmwc.gts': 204401, 'jmq': 283140, 'lbrhbc': {'djfww': {'hcqbmwc.gts': 24794}, 'djfww.pps': 153648, 'mvtjzp.btg': 308911, 'ncmc': 219150, 'wqft.ggb': 253604, 'zft': 293759}, 'pncb.bmp': 154148, 'vzt.cnn': 53366}, 'fzqgwwnf': {'scdd.pwr': 233720}, 'hqvmq': {'cdld': {'llpltsgn.tqb': 293421}, 'cpcfcc': {'cglljgv': 230813, 'qlqqmndd.zcb': 178203, 'zrtm.tbt': 186410}, 'djfww': {'zrtm': 201830}, 'hpq.hgm': 85564, 'qnc': {'bdf.jrh': 305356, 'zrtm': {'bdhdrr': {'nffdrnb': {'nbrjz': 301601}}}}, 'wtnl.crs': 81509}, 'mmcrzqc': {'cpcfcc': {'cpcfcc': 226054}, 'hpq.hgm': 264271, 'tzsjrf.zdc': 208744, 'zft': 274096}, 'qlqqmndd.zcb': 42136, 'vdtlh': {'bzlg.crn': 84229, 'cpcfcc.zqw': 58668, 'hpq.hgm': 141409, 'mdgst': {'fsmvbpsl.nqr': 151033}, 'pstsh.qwv': 37090, 'qlqqmndd.zcb': 40357, 'smr': {'cpcfcc.dpg': 140764}, 'sqbgcsgh': {'djfww': {'vcgpvpd': 260084}, 'dvm': 263783, 'hpq.hgm': 105219, 'hwcgv.gvg': 29647, 'lwjhgh.wmt': 162537, 'nlw': 235511, 'zwddrdfz': {'bhrzzw': 225632, 'cqq.vrz': 269756}}, 'trp': {'vqwngcs': 233192}}, 'wfltm': {'djfww': 140990}, 'zrtm': 271200}, 'djb': {'cjwrs.prd': 213191, 'dhvpqt': {'sbcj': {'ggt': 20611}}, 'gtgftm': {'qcqbtmvq': 179526}, 'hvfvt': {'djstcnrt': {'hcqbmwc.gts': 201498, 'hpq.hgm': 139156, 'pshgz.rtp': 277342, 'rjb': {'hpq.hgm': 268438, 'hvfvt': {'dvwqqt': {'hcqbmwc.gts': 315187}, 'hcqbmwc.gts': 163397, 'pwgswq.fld': 265154, 'trsh': {'ssrdpg': {'vjdc': {'srvdrhdq': {'djfww': 74145}}}}, 'vnf': {'djfww': {'pwgswq.fld': 184018}}}, 'hvwpb': {'jwpjrcvs': {'cpcfcc': {'sdlv': 52191}}}, 'mzbcgqc.nvw': 161024, 'pwgswq.fld': 137875, 'pzzcww': 260008, 'wnvlrg.tmn': 283261}, 'rqrb.lhh': 257294, 'tqnbfnt': {'djfww': {'djfww.rbf': 217182}, 'fmpb.lnp': 206341, 'fpsjg': {'djfww': 52456}, 'hcqbmwc.gts': 4589, 'hvfvt': {'rqhzvb': {'gcmzsd.jzf': 8395}, 'szwgzm.qjd': 275026, 'zbmtstj': {'qlqqmndd.zcb': 39691, 'qqcdss': {'zrtm.nsl': 106297}, 'rwl.zwr': 180676}}, 'hvfvt.hdz': 8796, 'tgcdpjc.fjm': 238364, 'zrtm': {'ldhvt': 153478}, 'zrtm.fsr': 40577}, 'zft.dvc': 313308}, 'hggpvn': {'cpcfcc.fbh': 19109, 'fnqjc': 249168, 'qgzsh.pfs': 207420, 'qlqqmndd.zcb': 135472}, 'hvfvt': {'djfww': {'rwmm.gjt': 180713}, 'hcqbmwc.gts': 213659, 'jzdwq': {'djfww.qtm': 57424, 'slq.bfp': 104960, 'svc': 174906}, 'nvbgf': 204021, 'qlqqmndd.zcb': 185328, 'zrtm': {'mrtvhht': {'djfww.fvm': 188512}}}, 'hvfvt.tjm': 63889, 'qlqqmndd.zcb': 265836, 'zft': 105663, 'zft.llg': 223582, 'zzwwg.lqh': 26037}, 'jwhp': 208325, 'qlqqmndd.zcb': 301446, 'qnlbgvf': {'fjrhtssv': {'fgcc': 198664, 'tsc.rsd': 245142}, 'jhbnml.lpq': 46767}, 'tps': {'fmlwghjv': {'zrtm.vgg': 189227}, 'gwch.ttr': 146731, 'jjzmdd': {'hvfvt': {'lbndbhc': {'cdqvs.gwc': 49601, 'wvjpchjg': 158670}, 'mnclbss': 12602, 'ppw': 746}, 'mpdfrrm': 178057, 'pwgswq.fld': 49493, 'sqgfb.flm': 220129, 'zrmsnmr': 231012}, 'rtltrng': {'cpgh': {'djfww': {'tgt': {'vqwvqss': {'bsdrhz': {'pld': {'mfs.gsb': 8543}}}}}}, 'hvfvt': 115613, 'zfs': 59441}, 'wff.mqt': 191609}, 'zft': {'fhjgg': {'pwgswq.fld': 114494}}, 'zrtm': {'tlhr.rtd': 201142, 'wlcztszv': 298232}, 'zwnlm': {'hcqbmwc.gts': 240023, 'hpq.hgm': 159126, 'hvfvt.bfw': 22101, 'ltzl': {'hpq.hgm': 260692, 'hvfvt': 204540}, 'mtfr': {'pwgswq.fld': 15391}, 'sbw': {'hcqbmwc.gts': 293226, 'htllcq': 267478, 'nlbhcf.vpn': 176349, 'zft.gds': 286577}, 'sqscdjlj': {'gnh': 128776, 'qbdpvcbt': {'crv.hgm': 280709}, 'qlsn.vdq': 284505}, 'ssf': {'djfww.pjn': 13328, 'hvfvt': 19971, 'zft': {'dnmnz': 97761}}}}, 'djfww': {'bwfnnf.wpd': 109590, 'cmht.ljg': 297297, 'hvfvt': 280726}, 'drdf': {'pwgswq.fld': 56764, 'wqqm': 300547, 'zrtm.jvq': 210698}, 'fgbqtjlj': {'vrmgsz.ctg': 22217}, 'hjsmmj': {'bcqrmp.czf': 232911, 'hcqbmwc.gts': 164656, 'jql': {'zhnhn.lzm': 212767, 'zrtm': {'bcqrmp.czf': 35950}}, 'ntd': {'vml': {'bcqrmp.czf': 60833}}, 'prgm': {'pwgswq.fld': 316166}, 'psfvhh': {'pwgswq.fld': 152195, 'qlqqmndd.zcb': 92448}, 'zft': {'hpq.hgm': 95808}}, 'hvfvt.qtb': 243293, 'lrpb': 245795, 'msptbrl': {'hpq.hgm': 256069}, 'qlqqmndd.zcb': 181756, 'rtfzt.tjp': 18658, 'slpc': {'djfww': {'pwgswq.fld': 94935, 'qlqqmndd.zcb': 70655, 'zft.qvh': 48528}, 'djfww.gcm': 285380, 'hcqbmwc.gts': 169898, 'mnpnhpz': 40914, 'pwgswq.fld': 188062, 'zrtm': {'hcqbmwc.gts': 160137}}}, 'hcqbmwc.gts': 4967, 'hsbhwb.clj': 5512, 'hvfvt': {'cslthslv': {'cpcfcc': {'zpgnczq': {'zft': 158414}}, 'hcqbmwc.gts': 158361}, 'prwq': 129407, 'vrzfbtt': {'nqvvl': 185263}}, 'phwgv': {'bzpcj.fcj': 253690, 'wtbr': {'lvgdb': {'cpcfcc.dzr': 177751}}, 'zdsh.tnq': 168025, 'zsdfqb.zbd': 157840}, 'pwgswq.fld': 277125, 'qdzr.btl': 42131, 'svw': {'cpcfcc': {'hcqbmwc.gts': 298999, 'hpq.hgm': 290883, 'qlnntp': {'nqds.tqn': 168562}, 'vpshs': {'pwgswq.fld': 246400}, 'wlrmg.bpc': 5547, 'zft': {'hvfvt.hst': 235634}}, 'hpq.hgm': 189430, 'ntzbj': {'qlqqmndd.zcb': 98777}, 'qlqqmndd.zcb': 13384, 'wdvqhwgl.trq': 10333, 'zwzp.jsn': 161318}, 'vmbnlzgb.wbd': 144372, 'zft': {'dhnzm': {'bbsj': 267041}, 'hvfvt.pvb': 299292, 'ltfb': {'bcqrmp.czf': 242136, 'dgdz': 314862, 'hcqbmwc.gts': 203160, 'hgvz': 80422, 'qftjfqfv': {'bmmw': {'hvfvt': {'brplf.wgv': 170348, 'hcqbmwc.gts': 156783}, 'hvfvt.whc': 318039, 'pwgswq.fld': 17057}}, 'sstl.wzg': 180815, 'wmhm': {'bcqrmp.czf': 178474, 'cmsgv': {'flgjbjg': {'cpcfcc': 13971, 'qlqqmndd.zcb': 20601}}, 'dcfvrtj': {'djfww.djn': 141992, 'hpq.hgm': 118149, 'qrmqslq': {'zrtm.vql': 105940}}, 'htjflrs.tlm': 225393, 'hvfvt': {'hpq.hgm': 181962}, 'nlrs': {'vnfwjf.hhl': 82705}, 'nsmdd.glc': 273173, 'pwgswq.fld': 151259, 'ztqvwjr': {'pwgswq.fld': 98257, 'scv.pbp': 83864}}, 'zft': {'rsbfsl.zsj': 183072}, 'zszp': {'hvfvt': {'djfww': {'rnmbsq.zph': 117037, 'zrtm.znf': 259243}, 'dqdtgjtg': {'lrbsvng': {'bcqrmp.czf': 46301}, 'zft': 59301}, 'hvfvt': {'qlqqmndd.zcb': 223277}}}}, 'mrvsjgsq': {'cpcfcc': 160189, 'lzqf': {'bcqrmp.czf': 135552, 'qlqqmndd.zcb': 48083, 'rbg': {'sjdwsbqq': {'rhv.shw': 270621}}, 'rdswb.cjz': 229086, 'spbwfrwf.cmj': 204486}, 'pwgswq.fld': 232626, 'rpmfcg': {'bld.jtn': 227216, 'zft': {'vzc': 43056}}}, 'ntr': {'cmtnqb': {'pbng.vhq': 135380}, 'djfww': {'fmvrrrq': {'cpcfcc': {'zsgsm': 234211}, 'djfww': 79110, 'ftcdj.wcc': 300581}, 'mbhrbss': {'djfww.gwh': 149184, 'rhgw.rmj': 185815}, 'zrtm': {'zft': {'bnwvt.fbg': 310043}}}, 'wffvmql.lrv': 195371}, 'swmvhgd': {'djfww.jwr': 77547, 'drggg': 318547, 'pwgswq.fld': 300962}, 'zrtm': {'bflnffjj': 229319, 'djfww': {'bcqrmp.czf': 30770}, 'hvfvt': 142526, 'jprrf': 232722, 'ndmf.hdr': 94024, 'vhdhn': {'djfww': {'cvjlthn.cfl': 104095, 'hgqwzh': 223454, 'pwgswq.fld': 24715, 'qlqqmndd.zcb': 283499, 'zft': {'pwgswq.fld': 100941}, 'zlnwn': 224574}, 'djfww.frg': 48261, 'gqc': {'wpgwrdl': 156273}, 'qlqqmndd.zcb': 316163}}}}\n"
     ]
    }
   ],
   "source": [
    "import re\n",
    "\n",
    "f = open('input')\n",
    "f = f.readlines()\n",
    "f = [line.strip() for line in f]\n",
    "\n",
    "root = {}\n",
    "pwd = root\n",
    "pwd_path = []\n",
    "\n",
    "def handle_line(line, directory):\n",
    "  if line[0] == '$':\n",
    "    cmd = line[2:4]\n",
    "    if cmd == \"cd\":\n",
    "\n",
    "      target = line[5:]\n",
    "\n",
    "      if target == '/':\n",
    "        return (\"GO_TO_ROOT\", None)\n",
    "      if target == '..': \n",
    "        return (\"GO_TO_PARENT\", None)\n",
    "\n",
    "      if not target in directory:\n",
    "        return (\"MAKE_AND_NAVIGATE\", target)\n",
    "\n",
    "      return (\"NAVIGATE\", target)\n",
    "    \n",
    "    if cmd == \"ls\":\n",
    "      return (\"LIST_FILES\", None)\n",
    "  \n",
    "  if line[0:3] == 'dir':\n",
    "    dirname = line[4:]\n",
    "    # print(dirname)\n",
    "    return (\"MAKE_DIR\", dirname)\n",
    "  \n",
    "  filesize = re.findall(r'[0-9]+', line)[0]\n",
    "  filename = re.findall(r'[a-z.]+', line)[0]\n",
    "  return (\"MAKE_FILE\", [filename, filesize])\n",
    "\n",
    "def get_dir(path):\n",
    "  cdir = root\n",
    "  for d in path:\n",
    "    cdir = cdir[d]\n",
    "  return cdir\n",
    "\n",
    "for line in f:\n",
    "  action, param = handle_line(line, pwd)\n",
    "  if action == \"NAVIGATE\":\n",
    "    pwd = pwd[param]\n",
    "    pwd_path.append(param)\n",
    "\n",
    "  if action == \"MAKE_AND_NAVIGATE\":\n",
    "    pwd[param] = {}\n",
    "    pwd_path.append(param)\n",
    "    pwd = pwd[param]\n",
    "\n",
    "  if action == 'GO_TO_PARENT':\n",
    "    pwd = get_dir(pwd_path[:-1])\n",
    "    pwd_path = pwd_path[:-1]\n",
    "\n",
    "  if action == 'GO_TO_ROOT':\n",
    "    pwd = root\n",
    "    pwd_path = []\n",
    "  \n",
    "  if action == 'MAKE_DIR':\n",
    "    pwd[param] = {}\n",
    "\n",
    "  if action == 'MAKE_FILE':\n",
    "    filename = param[0]\n",
    "    filesize = int(param[1])\n",
    "\n",
    "    # if 'size' in pwd:\n",
    "    #   pwd['size'] = pwd['size'] + filesize\n",
    "    # else: \n",
    "    #   pwd['size'] = filesize\n",
    "    \n",
    "    pwd[filename] = filesize\n",
    "\n",
    "print(root)\n"
   ]
  },
  {
   "cell_type": "code",
   "execution_count": 74,
   "id": "3cb423cd",
   "metadata": {},
   "outputs": [
    {
     "name": "stdout",
     "output_type": "stream",
     "text": [
      "['cvt', 'hvfvt', 'phwgv', 'svw', 'zft']\n"
     ]
    }
   ],
   "source": [
    "def getdirs(directory):\n",
    "  directories = []\n",
    "  for file in directory:\n",
    "    if type(directory[file]) == dict:\n",
    "      directories.append(file)\n",
    "  return directories\n",
    "print(getdirs(root))"
   ]
  },
  {
   "cell_type": "code",
   "execution_count": 131,
   "id": "23f05ff8",
   "metadata": {},
   "outputs": [
    {
     "name": "stdout",
     "output_type": "stream",
     "text": [
      "root size was 46728267. Dirs below 100000 was 1390824\n"
     ]
    }
   ],
   "source": [
    "\n",
    "def calcDirSize(directory):\n",
    "  dirsize = 0\n",
    "  accumulated = 0\n",
    "  for file in directory:\n",
    "    if type(directory[file]) == dict:\n",
    "      subdirsize, accumulated_small_dir_size = calcDirSize(directory[file])\n",
    "      accumulated += accumulated_small_dir_size\n",
    "      dirsize += subdirsize\n",
    "    if type(directory[file]) == int:\n",
    "      dirsize += directory[file]\n",
    "\n",
    "  if dirsize <= 100000:\n",
    "    accumulated += dirsize\n",
    "\n",
    "  return (dirsize, accumulated)\n",
    "\n",
    "root_size, small_dir_size = calcDirSize(root)\n",
    "\n",
    "print(f'root size was {root_size}. Dirs below 100000 was {small_dir_size}')"
   ]
  },
  {
   "cell_type": "code",
   "execution_count": 153,
   "id": "81ed24ec",
   "metadata": {},
   "outputs": [
    {
     "name": "stdout",
     "output_type": "stream",
     "text": [
      "{'root_size           ': ' 46728267'}\n",
      "{'remaining_space     ': ' 23271733'}\n",
      "{'needed_space        ': ' 30000000'}\n",
      "{'clean_up_quota      ': '  6728267'}\n",
      "\n",
      "✨ Smallest was 7490863 ✨\n"
     ]
    }
   ],
   "source": [
    "total_space = 70000000\n",
    "needed_space = 30000000\n",
    "remaining_space = total_space - root_size\n",
    "\n",
    "clean_up_quota = needed_space - remaining_space\n",
    "\n",
    "print({\"root_size\".ljust(20): str(root_size).rjust(9)})\n",
    "print({\"remaining_space\".ljust(20): str(remaining_space).rjust(9)})\n",
    "print({\"needed_space\".ljust(20): str(needed_space).rjust(9)})\n",
    "print({\"clean_up_quota\".ljust(20): str(clean_up_quota).rjust(9)})\n",
    "\n",
    "\n",
    "def findSmallestCleanupDir(directory):\n",
    "  dirsize = 0\n",
    "  closest = 999999999\n",
    "  for file in directory:\n",
    "    if type(directory[file]) == dict:\n",
    "      subdirsize, closest_subdir = findSmallestCleanupDir(directory[file])\n",
    "      if closest > closest_subdir and closest_subdir > clean_up_quota:\n",
    "        closest = closest_subdir\n",
    "      dirsize += subdirsize\n",
    "    if type(directory[file]) == int:\n",
    "      dirsize += directory[file]\n",
    "\n",
    "  if closest > dirsize and dirsize > clean_up_quota:\n",
    "    closest = dirsize\n",
    "\n",
    "  return (dirsize, closest)\n",
    "\n",
    "smallest = findSmallestCleanupDir(root)\n",
    "\n",
    "print(f'\\n✨ Smallest was {smallest[1]} ✨')"
   ]
  }
 ],
 "metadata": {
  "kernelspec": {
   "display_name": "Python 3.10.8 64-bit",
   "language": "python",
   "name": "python3"
  },
  "language_info": {
   "codemirror_mode": {
    "name": "ipython",
    "version": 3
   },
   "file_extension": ".py",
   "mimetype": "text/x-python",
   "name": "python",
   "nbconvert_exporter": "python",
   "pygments_lexer": "ipython3",
   "version": "3.10.8"
  },
  "vscode": {
   "interpreter": {
    "hash": "aee8b7b246df8f9039afb4144a1f6fd8d2ca17a180786b69acc140d282b71a49"
   }
  }
 },
 "nbformat": 4,
 "nbformat_minor": 5
}
