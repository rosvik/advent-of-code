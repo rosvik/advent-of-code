{
 "cells": [
  {
   "cell_type": "code",
   "execution_count": 34,
   "metadata": {},
   "outputs": [
    {
     "name": "stdout",
     "output_type": "stream",
     "text": [
      "1719\n"
     ]
    }
   ],
   "source": [
    "f = open('input')\n",
    "f = f.readlines()\n",
    "f = [l.strip() for l in f]\n",
    "\n",
    "def getTree(x,y):\n",
    "  return int(f[y][x])\n",
    "\n",
    "def largerthanall(n, line):\n",
    "  for t in line:\n",
    "    if int(t) >= int(n):\n",
    "      return False\n",
    "  return True\n",
    "\n",
    "count = 0\n",
    "\n",
    "def getYbelow(x, y):\n",
    "  line = \"\"\n",
    "  for treeline in f[y:]:\n",
    "    line = line + treeline[x]\n",
    "  return line\n",
    "\n",
    "def getYabove(x, y):\n",
    "  line = \"\"\n",
    "  for treeline in f[:y]:\n",
    "    line = line + treeline[x]\n",
    "  return line\n",
    "\n",
    "for y, treeline in enumerate(f):\n",
    "  for x, tree in enumerate(treeline):\n",
    "    leftside = treeline[:x]\n",
    "    rightside = treeline[x+1:]\n",
    "    if largerthanall(tree, leftside):\n",
    "      count += 1\n",
    "    elif largerthanall(tree, rightside):\n",
    "      count += 1\n",
    "    elif largerthanall(tree, getYabove(x,y)):\n",
    "      count += 1\n",
    "    elif largerthanall(tree, getYbelow(x,y+1)):\n",
    "      count += 1\n",
    "    \n",
    "    # print(getYabove(x,y+1))\n",
    "\n",
    "    # print(f'{leftside} {getTree(x,y)} {rightside} {largerthanall(tree, leftside)} {largerthanall(tree, rightside)}')\n",
    "\n",
    "print(count)"
   ]
  }
 ],
 "metadata": {
  "kernelspec": {
   "display_name": "Python 3.10.8 64-bit",
   "language": "python",
   "name": "python3"
  },
  "language_info": {
   "codemirror_mode": {
    "name": "ipython",
    "version": 3
   },
   "file_extension": ".py",
   "mimetype": "text/x-python",
   "name": "python",
   "nbconvert_exporter": "python",
   "pygments_lexer": "ipython3",
   "version": "3.10.8"
  },
  "vscode": {
   "interpreter": {
    "hash": "aee8b7b246df8f9039afb4144a1f6fd8d2ca17a180786b69acc140d282b71a49"
   }
  }
 },
 "nbformat": 4,
 "nbformat_minor": 5
}
